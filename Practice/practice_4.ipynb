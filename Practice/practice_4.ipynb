{
 "cells": [
  {
   "cell_type": "markdown",
   "metadata": {},
   "source": [
    "Вы работаете секретарем и вам постоянно приходят различные документы. Вы должны быть очень внимательны, чтобы не потерять ни один документ. Каталог документов хранится в следующем виде:"
   ]
  },
  {
   "cell_type": "code",
   "execution_count": 1,
   "metadata": {},
   "outputs": [],
   "source": [
    "documents = [\n",
    "    {'type': 'passport', 'number': '2207 876234', 'name': 'Василий Гупкин'},\n",
    "    {'type': 'invoice', 'number': '11-2', 'name': 'Геннадий Покемонов'},\n",
    "    {'type': 'insurance', 'number': '10006', 'name': 'Аристарх Павлов'}\n",
    "]"
   ]
  },
  {
   "cell_type": "code",
   "execution_count": 2,
   "metadata": {},
   "outputs": [],
   "source": [
    "def print_documents(documents):\n",
    "    for doc in documents:\n",
    "        print(doc)"
   ]
  },
  {
   "cell_type": "markdown",
   "metadata": {},
   "source": [
    "Перечень полок, на которых находятся документы хранится в следующем виде:"
   ]
  },
  {
   "cell_type": "code",
   "execution_count": 3,
   "metadata": {},
   "outputs": [],
   "source": [
    "directories = {\n",
    "    '1': ['2207 876234', '11-2'],\n",
    "    '2': ['10006'],\n",
    "    '3': []\n",
    "}"
   ]
  },
  {
   "cell_type": "code",
   "execution_count": 4,
   "metadata": {},
   "outputs": [],
   "source": [
    "def print_directories(directories):\n",
    "    for key,value in directories.items():\n",
    "        print(key,value)"
   ]
  },
  {
   "cell_type": "markdown",
   "metadata": {},
   "source": [
    "Необходимо реализовать пользовательские команды (внимание! это не название функций, которые должны быть выразительными, а команды, которые вводит пользователь, чтобы получить необходимый результат):\n",
    "\n",
    "* p – people – команда, которая спросит номер документа и выведет имя человека, которому он принадлежит;\n",
    "* s – shelf – команда, которая спросит номер документа и выведет номер полки, на которой он находится\n",
    "Правильно обработайте ситуации, когда пользователь будет вводить несуществующий документ.\n",
    "* l – list – команда, которая выведет список всех документов в формате\n",
    "**passport \"2207 876234\" \"Василий Гупкин\"**\n",
    "* as – add shelf – команда, которая спросит номер новой полки и добавит ее в перечень. Предусмотрите случай, когда пользователь добавляет полку, которая уже существует.\n",
    "* d – delete – команда, которая спросит номер документа и удалит его из каталога и из перечня полок. Предусмотрите сценарий, когда пользователь вводит несуществующий документ;\n",
    "* m – move – команда, которая спросит номер документа и целевую полку и переместит его с текущей полки на целевую. Корректно обработайте кейсы, когда пользователь пытается переместить несуществующий документ или переместить документ на несуществующую полку;\n",
    "*  add – команда, которая добавит новый документ в каталог и в перечень полок, спросив его номер, тип, имя владельца и номер полки, на котором он будет храниться. Корректно обработайте ситуацию, когда пользователь будет пытаться добавить документ на несуществующую полку."
   ]
  },
  {
   "cell_type": "code",
   "execution_count": 5,
   "metadata": {},
   "outputs": [],
   "source": [
    "def people():\n",
    "    number = input(\"Введите номер документа: \")\n",
    "    \n",
    "    for doc in documents:\n",
    "        if number == doc['number']:\n",
    "            print( doc['name'] )\n",
    "            return\n",
    "        \n",
    "    print(\"undefined\")\n",
    "    return"
   ]
  },
  {
   "cell_type": "code",
   "execution_count": 6,
   "metadata": {},
   "outputs": [],
   "source": [
    "def shelf():\n",
    "    number = input(\"Введите номер документа: \")\n",
    "    \n",
    "    for shelf, arr in directories.items():\n",
    "        for item in arr:\n",
    "            if item == number:\n",
    "                print(shelf)\n",
    "                return\n",
    "        \n",
    "    print(\"Документа с номером '\" + number + \"' не сущетсвует!\")\n",
    "    return"
   ]
  },
  {
   "cell_type": "code",
   "execution_count": 7,
   "metadata": {},
   "outputs": [],
   "source": [
    "def doc_list():\n",
    "    for doc in documents:\n",
    "        print(doc['type'] + ' \"' + doc['number'] + '\" \"' + doc['name'] + '\"')"
   ]
  },
  {
   "cell_type": "code",
   "execution_count": 8,
   "metadata": {},
   "outputs": [],
   "source": [
    "def is_shelf_exist(number):\n",
    "    for key in directories.keys():\n",
    "        if key == number:\n",
    "            return True\n",
    "        \n",
    "    return False\n",
    "\n",
    "def add_shelf():\n",
    "    while True:\n",
    "        number = input(\"Введите номер полки: \")\n",
    "        if is_shelf_exist(number):\n",
    "            print(\"Такая полка уже существует!\")\n",
    "        else: \n",
    "            break\n",
    "        \n",
    "    directories[number] = []\n",
    "    print(\"Полка успешно добавлена!\")\n",
    "    return"
   ]
  },
  {
   "cell_type": "code",
   "execution_count": 9,
   "metadata": {},
   "outputs": [],
   "source": [
    "def delete():\n",
    "    number = input(\"Введите номер документа: \")\n",
    "    \n",
    "    is_exist = False\n",
    "    \n",
    "    for i in range( len(documents) ):\n",
    "        if number == documents[i]['number']:\n",
    "            del documents[i]\n",
    "            is_exist = True\n",
    "            break\n",
    "            \n",
    "    if not is_exist:\n",
    "        print(\"Документ не найден!\")\n",
    "        return False\n",
    "    \n",
    "    for shelf, arr in directories.items():\n",
    "        for i in range( len(arr) ):\n",
    "            if arr[i] == number:\n",
    "                del arr[i]\n",
    "                break\n",
    "        \n",
    "    print(\"Документ успешно удалён!\")\n",
    "    return True"
   ]
  },
  {
   "cell_type": "code",
   "execution_count": 10,
   "metadata": {},
   "outputs": [],
   "source": [
    "def get_free_shelf_number():\n",
    "    while True:\n",
    "        shelf_number = input(\"Введите номер полки: \")\n",
    "        if not is_shelf_exist(shelf_number):\n",
    "            print(\"Такой полки не существует!\")\n",
    "        else: \n",
    "            return shelf_number\n",
    "        \n",
    "    return 1\n",
    "\n",
    "def move():\n",
    "    number = input(\"Введите номер документа: \")\n",
    "    \n",
    "    is_exist = False\n",
    "    \n",
    "    for shelf, arr in directories.items():\n",
    "        for i in range( len(arr) ):\n",
    "            if arr[i] == number:\n",
    "                del arr[i]\n",
    "                is_exist = True\n",
    "                break\n",
    "                \n",
    "    if not is_exist:\n",
    "        print(\"Документ не найден!\")\n",
    "        return False\n",
    "    \n",
    "    shelf_number = get_free_shelf_number()\n",
    "    directories[shelf_number].append(number)\n",
    "        \n",
    "    print(\"Документ успешно перемещён!\")\n",
    "    return True"
   ]
  },
  {
   "cell_type": "code",
   "execution_count": 11,
   "metadata": {},
   "outputs": [],
   "source": [
    "def add():\n",
    "    doc_type = input(\"Введите тип документа: \")\n",
    "    doc_number = input(\"Введите номер документа: \")\n",
    "    doc_name = input(\"Введите имя владельца документа: \")\n",
    "    doc_shelf = get_free_shelf_number()\n",
    "    \n",
    "    documents.append({\n",
    "        'type': doc_type,\n",
    "        'number': doc_number,\n",
    "        'name': doc_name\n",
    "    });\n",
    "    \n",
    "    directories[doc_shelf].append(doc_number)\n",
    "    \n",
    "    print(\"Документ успешно добавлен!\")\n",
    "    return True"
   ]
  },
  {
   "cell_type": "code",
   "execution_count": 12,
   "metadata": {},
   "outputs": [
    {
     "name": "stdout",
     "output_type": "stream",
     "text": [
      "Введите команду: l\n",
      "passport \"2207 876234\" \"Василий Гупкин\"\n",
      "invoice \"11-2\" \"Геннадий Покемонов\"\n",
      "insurance \"10006\" \"Аристарх Павлов\"\n",
      "Введите команду: q\n"
     ]
    }
   ],
   "source": [
    "def main():\n",
    "    while True:\n",
    "        user_input = input('Введите команду: ')\n",
    "        if user_input == 'p':\n",
    "            people()\n",
    "        elif user_input == 's':\n",
    "            shelf()\n",
    "        elif user_input == 'l':\n",
    "            doc_list()\n",
    "            pass\n",
    "        elif user_input == 'as':\n",
    "            add_shelf()\n",
    "        elif user_input == 'd':\n",
    "            delete()\n",
    "            pass\n",
    "        elif user_input == 'm':\n",
    "            move()\n",
    "            pass\n",
    "        elif user_input == 'add':\n",
    "            add()\n",
    "            pass\n",
    "        elif user_input == 'q':\n",
    "            break\n",
    "        \n",
    "main()"
   ]
  },
  {
   "cell_type": "code",
   "execution_count": null,
   "metadata": {},
   "outputs": [],
   "source": []
  },
  {
   "cell_type": "code",
   "execution_count": null,
   "metadata": {},
   "outputs": [],
   "source": []
  }
 ],
 "metadata": {
  "kernelspec": {
   "display_name": "Python 3",
   "language": "python",
   "name": "python3"
  },
  "language_info": {
   "codemirror_mode": {
    "name": "ipython",
    "version": 3
   },
   "file_extension": ".py",
   "mimetype": "text/x-python",
   "name": "python",
   "nbconvert_exporter": "python",
   "pygments_lexer": "ipython3",
   "version": "3.8.3"
  }
 },
 "nbformat": 4,
 "nbformat_minor": 4
}
