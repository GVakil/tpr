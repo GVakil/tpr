{
 "cells": [
  {
   "cell_type": "markdown",
   "metadata": {},
   "source": [
    "# • построить не менее 4 визуализаций различных видов;\n",
    "# • каждая визуализация должным образом оформлена и читается даже в отрыве от контекста;\n",
    "# • по каждой визуализации необходимо написать вывод (какую гипотезу на ее основе можно выдвинуть?)"
   ]
  },
  {
   "cell_type": "code",
   "execution_count": 114,
   "metadata": {},
   "outputs": [
    {
     "name": "stdout",
     "output_type": "stream",
     "text": [
      "(85855, 22)\n"
     ]
    },
    {
     "name": "stderr",
     "output_type": "stream",
     "text": [
      "D:\\Anaconda\\lib\\site-packages\\IPython\\core\\interactiveshell.py:3071: DtypeWarning: Columns (3) have mixed types.Specify dtype option on import or set low_memory=False.\n",
      "  has_raised = await self.run_ast_nodes(code_ast.body, cell_name,\n"
     ]
    }
   ],
   "source": [
    "import pandas as pd\n",
    "df = pd.read_csv('IMDb movies.csv')\n",
    "print(df.shape)"
   ]
  },
  {
   "cell_type": "code",
   "execution_count": 115,
   "metadata": {},
   "outputs": [
    {
     "data": {
      "text/html": [
       "<div>\n",
       "<style scoped>\n",
       "    .dataframe tbody tr th:only-of-type {\n",
       "        vertical-align: middle;\n",
       "    }\n",
       "\n",
       "    .dataframe tbody tr th {\n",
       "        vertical-align: top;\n",
       "    }\n",
       "\n",
       "    .dataframe thead th {\n",
       "        text-align: right;\n",
       "    }\n",
       "</style>\n",
       "<table border=\"1\" class=\"dataframe\">\n",
       "  <thead>\n",
       "    <tr style=\"text-align: right;\">\n",
       "      <th></th>\n",
       "      <th>imdb_title_id</th>\n",
       "      <th>title</th>\n",
       "      <th>original_title</th>\n",
       "      <th>year</th>\n",
       "      <th>date_published</th>\n",
       "      <th>genre</th>\n",
       "      <th>duration</th>\n",
       "      <th>country</th>\n",
       "      <th>language</th>\n",
       "      <th>director</th>\n",
       "      <th>...</th>\n",
       "      <th>actors</th>\n",
       "      <th>description</th>\n",
       "      <th>avg_vote</th>\n",
       "      <th>votes</th>\n",
       "      <th>budget</th>\n",
       "      <th>usa_gross_income</th>\n",
       "      <th>worlwide_gross_income</th>\n",
       "      <th>metascore</th>\n",
       "      <th>reviews_from_users</th>\n",
       "      <th>reviews_from_critics</th>\n",
       "    </tr>\n",
       "  </thead>\n",
       "  <tbody>\n",
       "    <tr>\n",
       "      <th>0</th>\n",
       "      <td>tt0000009</td>\n",
       "      <td>Miss Jerry</td>\n",
       "      <td>Miss Jerry</td>\n",
       "      <td>1894</td>\n",
       "      <td>1894-10-09</td>\n",
       "      <td>Romance</td>\n",
       "      <td>45</td>\n",
       "      <td>USA</td>\n",
       "      <td>None</td>\n",
       "      <td>Alexander Black</td>\n",
       "      <td>...</td>\n",
       "      <td>Blanche Bayliss, William Courtenay, Chauncey D...</td>\n",
       "      <td>The adventures of a female reporter in the 1890s.</td>\n",
       "      <td>5.9</td>\n",
       "      <td>154</td>\n",
       "      <td>NaN</td>\n",
       "      <td>NaN</td>\n",
       "      <td>NaN</td>\n",
       "      <td>NaN</td>\n",
       "      <td>1.0</td>\n",
       "      <td>2.0</td>\n",
       "    </tr>\n",
       "    <tr>\n",
       "      <th>1</th>\n",
       "      <td>tt0000574</td>\n",
       "      <td>The Story of the Kelly Gang</td>\n",
       "      <td>The Story of the Kelly Gang</td>\n",
       "      <td>1906</td>\n",
       "      <td>1906-12-26</td>\n",
       "      <td>Biography, Crime, Drama</td>\n",
       "      <td>70</td>\n",
       "      <td>Australia</td>\n",
       "      <td>None</td>\n",
       "      <td>Charles Tait</td>\n",
       "      <td>...</td>\n",
       "      <td>Elizabeth Tait, John Tait, Norman Campbell, Be...</td>\n",
       "      <td>True story of notorious Australian outlaw Ned ...</td>\n",
       "      <td>6.1</td>\n",
       "      <td>589</td>\n",
       "      <td>$ 2250</td>\n",
       "      <td>NaN</td>\n",
       "      <td>NaN</td>\n",
       "      <td>NaN</td>\n",
       "      <td>7.0</td>\n",
       "      <td>7.0</td>\n",
       "    </tr>\n",
       "    <tr>\n",
       "      <th>2</th>\n",
       "      <td>tt0001892</td>\n",
       "      <td>Den sorte drøm</td>\n",
       "      <td>Den sorte drøm</td>\n",
       "      <td>1911</td>\n",
       "      <td>1911-08-19</td>\n",
       "      <td>Drama</td>\n",
       "      <td>53</td>\n",
       "      <td>Germany, Denmark</td>\n",
       "      <td>NaN</td>\n",
       "      <td>Urban Gad</td>\n",
       "      <td>...</td>\n",
       "      <td>Asta Nielsen, Valdemar Psilander, Gunnar Helse...</td>\n",
       "      <td>Two men of high rank are both wooing the beaut...</td>\n",
       "      <td>5.8</td>\n",
       "      <td>188</td>\n",
       "      <td>NaN</td>\n",
       "      <td>NaN</td>\n",
       "      <td>NaN</td>\n",
       "      <td>NaN</td>\n",
       "      <td>5.0</td>\n",
       "      <td>2.0</td>\n",
       "    </tr>\n",
       "    <tr>\n",
       "      <th>3</th>\n",
       "      <td>tt0002101</td>\n",
       "      <td>Cleopatra</td>\n",
       "      <td>Cleopatra</td>\n",
       "      <td>1912</td>\n",
       "      <td>1912-11-13</td>\n",
       "      <td>Drama, History</td>\n",
       "      <td>100</td>\n",
       "      <td>USA</td>\n",
       "      <td>English</td>\n",
       "      <td>Charles L. Gaskill</td>\n",
       "      <td>...</td>\n",
       "      <td>Helen Gardner, Pearl Sindelar, Miss Fielding, ...</td>\n",
       "      <td>The fabled queen of Egypt's affair with Roman ...</td>\n",
       "      <td>5.2</td>\n",
       "      <td>446</td>\n",
       "      <td>$ 45000</td>\n",
       "      <td>NaN</td>\n",
       "      <td>NaN</td>\n",
       "      <td>NaN</td>\n",
       "      <td>25.0</td>\n",
       "      <td>3.0</td>\n",
       "    </tr>\n",
       "    <tr>\n",
       "      <th>4</th>\n",
       "      <td>tt0002130</td>\n",
       "      <td>L'Inferno</td>\n",
       "      <td>L'Inferno</td>\n",
       "      <td>1911</td>\n",
       "      <td>1911-03-06</td>\n",
       "      <td>Adventure, Drama, Fantasy</td>\n",
       "      <td>68</td>\n",
       "      <td>Italy</td>\n",
       "      <td>Italian</td>\n",
       "      <td>Francesco Bertolini, Adolfo Padovan</td>\n",
       "      <td>...</td>\n",
       "      <td>Salvatore Papa, Arturo Pirovano, Giuseppe de L...</td>\n",
       "      <td>Loosely adapted from Dante's Divine Comedy and...</td>\n",
       "      <td>7.0</td>\n",
       "      <td>2237</td>\n",
       "      <td>NaN</td>\n",
       "      <td>NaN</td>\n",
       "      <td>NaN</td>\n",
       "      <td>NaN</td>\n",
       "      <td>31.0</td>\n",
       "      <td>14.0</td>\n",
       "    </tr>\n",
       "  </tbody>\n",
       "</table>\n",
       "<p>5 rows × 22 columns</p>\n",
       "</div>"
      ],
      "text/plain": [
       "  imdb_title_id                        title               original_title  \\\n",
       "0     tt0000009                   Miss Jerry                   Miss Jerry   \n",
       "1     tt0000574  The Story of the Kelly Gang  The Story of the Kelly Gang   \n",
       "2     tt0001892               Den sorte drøm               Den sorte drøm   \n",
       "3     tt0002101                    Cleopatra                    Cleopatra   \n",
       "4     tt0002130                    L'Inferno                    L'Inferno   \n",
       "\n",
       "   year date_published                      genre  duration           country  \\\n",
       "0  1894     1894-10-09                    Romance        45               USA   \n",
       "1  1906     1906-12-26    Biography, Crime, Drama        70         Australia   \n",
       "2  1911     1911-08-19                      Drama        53  Germany, Denmark   \n",
       "3  1912     1912-11-13             Drama, History       100               USA   \n",
       "4  1911     1911-03-06  Adventure, Drama, Fantasy        68             Italy   \n",
       "\n",
       "  language                             director  ...  \\\n",
       "0     None                      Alexander Black  ...   \n",
       "1     None                         Charles Tait  ...   \n",
       "2      NaN                            Urban Gad  ...   \n",
       "3  English                   Charles L. Gaskill  ...   \n",
       "4  Italian  Francesco Bertolini, Adolfo Padovan  ...   \n",
       "\n",
       "                                              actors  \\\n",
       "0  Blanche Bayliss, William Courtenay, Chauncey D...   \n",
       "1  Elizabeth Tait, John Tait, Norman Campbell, Be...   \n",
       "2  Asta Nielsen, Valdemar Psilander, Gunnar Helse...   \n",
       "3  Helen Gardner, Pearl Sindelar, Miss Fielding, ...   \n",
       "4  Salvatore Papa, Arturo Pirovano, Giuseppe de L...   \n",
       "\n",
       "                                         description avg_vote votes   budget  \\\n",
       "0  The adventures of a female reporter in the 1890s.      5.9   154      NaN   \n",
       "1  True story of notorious Australian outlaw Ned ...      6.1   589   $ 2250   \n",
       "2  Two men of high rank are both wooing the beaut...      5.8   188      NaN   \n",
       "3  The fabled queen of Egypt's affair with Roman ...      5.2   446  $ 45000   \n",
       "4  Loosely adapted from Dante's Divine Comedy and...      7.0  2237      NaN   \n",
       "\n",
       "   usa_gross_income worlwide_gross_income metascore reviews_from_users  \\\n",
       "0               NaN                   NaN       NaN                1.0   \n",
       "1               NaN                   NaN       NaN                7.0   \n",
       "2               NaN                   NaN       NaN                5.0   \n",
       "3               NaN                   NaN       NaN               25.0   \n",
       "4               NaN                   NaN       NaN               31.0   \n",
       "\n",
       "   reviews_from_critics  \n",
       "0                   2.0  \n",
       "1                   7.0  \n",
       "2                   2.0  \n",
       "3                   3.0  \n",
       "4                  14.0  \n",
       "\n",
       "[5 rows x 22 columns]"
      ]
     },
     "execution_count": 115,
     "metadata": {},
     "output_type": "execute_result"
    }
   ],
   "source": [
    "df.head()"
   ]
  },
  {
   "cell_type": "markdown",
   "metadata": {},
   "source": [
    "# 1. Найдём, в какие годы наибольшее количество голосов у фильмов по данным IMDb."
   ]
  },
  {
   "cell_type": "markdown",
   "metadata": {},
   "source": [
    "### Сначала смотрим на самые ранние фильмы."
   ]
  },
  {
   "cell_type": "code",
   "execution_count": 116,
   "metadata": {},
   "outputs": [
    {
     "data": {
      "text/html": [
       "<div>\n",
       "<style scoped>\n",
       "    .dataframe tbody tr th:only-of-type {\n",
       "        vertical-align: middle;\n",
       "    }\n",
       "\n",
       "    .dataframe tbody tr th {\n",
       "        vertical-align: top;\n",
       "    }\n",
       "\n",
       "    .dataframe thead th {\n",
       "        text-align: right;\n",
       "    }\n",
       "</style>\n",
       "<table border=\"1\" class=\"dataframe\">\n",
       "  <thead>\n",
       "    <tr style=\"text-align: right;\">\n",
       "      <th></th>\n",
       "      <th>votes</th>\n",
       "    </tr>\n",
       "    <tr>\n",
       "      <th>year</th>\n",
       "      <th></th>\n",
       "    </tr>\n",
       "  </thead>\n",
       "  <tbody>\n",
       "    <tr>\n",
       "      <th>1894</th>\n",
       "      <td>154</td>\n",
       "    </tr>\n",
       "    <tr>\n",
       "      <th>1906</th>\n",
       "      <td>589</td>\n",
       "    </tr>\n",
       "    <tr>\n",
       "      <th>1911</th>\n",
       "      <td>2833</td>\n",
       "    </tr>\n",
       "    <tr>\n",
       "      <th>1912</th>\n",
       "      <td>1658</td>\n",
       "    </tr>\n",
       "    <tr>\n",
       "      <th>1913</th>\n",
       "      <td>9828</td>\n",
       "    </tr>\n",
       "  </tbody>\n",
       "</table>\n",
       "</div>"
      ],
      "text/plain": [
       "      votes\n",
       "year       \n",
       "1894    154\n",
       "1906    589\n",
       "1911   2833\n",
       "1912   1658\n",
       "1913   9828"
      ]
     },
     "execution_count": 116,
     "metadata": {},
     "output_type": "execute_result"
    }
   ],
   "source": [
    "df1 = df[[x for x in df.columns if 'votes' in x] + ['year']]\\\n",
    "    .groupby('year').sum()\n",
    "df1.head()"
   ]
  },
  {
   "cell_type": "markdown",
   "metadata": {},
   "source": [
    "### Теперь посмотрим на все годы, указанные в csv."
   ]
  },
  {
   "cell_type": "code",
   "execution_count": 117,
   "metadata": {},
   "outputs": [
    {
     "data": {
      "text/plain": [
       "<matplotlib.axes._subplots.AxesSubplot at 0x16006095d60>"
      ]
     },
     "execution_count": 117,
     "metadata": {},
     "output_type": "execute_result"
    },
    {
     "data": {
      "image/png": "[encoded data removed]",
      "text/plain": [
       "<Figure size 432x288 with 1 Axes>"
      ]
     },
     "metadata": {
      "needs_background": "light"
     },
     "output_type": "display_data"
    }
   ],
   "source": [
    "df1.plot()"
   ]
  },
  {
   "cell_type": "markdown",
   "metadata": {},
   "source": [
    "### Делаем вывод, что в первые годы люди вовлекались в фильмы постепенно, и голосов с каждым годом становилось больше, однако были периоды, когда все шло на спад."
   ]
  },
  {
   "cell_type": "markdown",
   "metadata": {},
   "source": [
    "# 2. Найдём у суммарные рейтинг и длительность фильмов."
   ]
  },
  {
   "cell_type": "code",
   "execution_count": 118,
   "metadata": {},
   "outputs": [
    {
     "data": {
      "text/html": [
       "<div>\n",
       "<style scoped>\n",
       "    .dataframe tbody tr th:only-of-type {\n",
       "        vertical-align: middle;\n",
       "    }\n",
       "\n",
       "    .dataframe tbody tr th {\n",
       "        vertical-align: top;\n",
       "    }\n",
       "\n",
       "    .dataframe thead th {\n",
       "        text-align: right;\n",
       "    }\n",
       "</style>\n",
       "<table border=\"1\" class=\"dataframe\">\n",
       "  <thead>\n",
       "    <tr style=\"text-align: right;\">\n",
       "      <th></th>\n",
       "      <th>avg_vote</th>\n",
       "      <th>duration</th>\n",
       "    </tr>\n",
       "    <tr>\n",
       "      <th>year</th>\n",
       "      <th></th>\n",
       "      <th></th>\n",
       "    </tr>\n",
       "  </thead>\n",
       "  <tbody>\n",
       "    <tr>\n",
       "      <th>1894</th>\n",
       "      <td>5.9</td>\n",
       "      <td>45</td>\n",
       "    </tr>\n",
       "    <tr>\n",
       "      <th>1906</th>\n",
       "      <td>6.1</td>\n",
       "      <td>70</td>\n",
       "    </tr>\n",
       "    <tr>\n",
       "      <th>1911</th>\n",
       "      <td>30.7</td>\n",
       "      <td>351</td>\n",
       "    </tr>\n",
       "    <tr>\n",
       "      <th>1912</th>\n",
       "      <td>29.9</td>\n",
       "      <td>380</td>\n",
       "    </tr>\n",
       "    <tr>\n",
       "      <th>1913</th>\n",
       "      <td>85.1</td>\n",
       "      <td>1121</td>\n",
       "    </tr>\n",
       "  </tbody>\n",
       "</table>\n",
       "</div>"
      ],
      "text/plain": [
       "      avg_vote  duration\n",
       "year                    \n",
       "1894       5.9        45\n",
       "1906       6.1        70\n",
       "1911      30.7       351\n",
       "1912      29.9       380\n",
       "1913      85.1      1121"
      ]
     },
     "execution_count": 118,
     "metadata": {},
     "output_type": "execute_result"
    }
   ],
   "source": [
    "df2 = df[[x for x in df.columns if 'avg_vote' in x] + ['year'] + ['duration']]\\\n",
    "    .groupby('year').sum()\n",
    "df2.head()"
   ]
  },
  {
   "cell_type": "code",
   "execution_count": 119,
   "metadata": {},
   "outputs": [
    {
     "data": {
      "text/plain": [
       "Text(0, 0.5, 'средний рейтинг')"
      ]
     },
     "execution_count": 119,
     "metadata": {},
     "output_type": "execute_result"
    },
    {
     "data": {
      "image/png": "[encoded data removed]",
      "text/plain": [
       "<Figure size 432x288 with 1 Axes>"
      ]
     },
     "metadata": {
      "needs_background": "light"
     },
     "output_type": "display_data"
    }
   ],
   "source": [
    "ax = df2.duration.hist(bins = 10)\n",
    "ax.set_title('Суммарный рейтинг и длительность фильмов')\n",
    "ax.set_xlabel('длительность')\n",
    "ax.set_ylabel('средний рейтинг')"
   ]
  },
  {
   "cell_type": "markdown",
   "metadata": {},
   "source": [
    "### Делаем вывод, что у малого количества фильмов высокий рейтиг (или множества коротких). Что значит, что хороших фильмов с хорошим рейтингои намного меньше, чем плохих."
   ]
  },
  {
   "cell_type": "markdown",
   "metadata": {},
   "source": [
    "# 3. Посмотрим, в какие годы наибольшая длительность фильмов (или наибольшее кол-во фильмов)."
   ]
  },
  {
   "cell_type": "code",
   "execution_count": 120,
   "metadata": {},
   "outputs": [
    {
     "data": {
      "text/html": [
       "<div>\n",
       "<style scoped>\n",
       "    .dataframe tbody tr th:only-of-type {\n",
       "        vertical-align: middle;\n",
       "    }\n",
       "\n",
       "    .dataframe tbody tr th {\n",
       "        vertical-align: top;\n",
       "    }\n",
       "\n",
       "    .dataframe thead th {\n",
       "        text-align: right;\n",
       "    }\n",
       "</style>\n",
       "<table border=\"1\" class=\"dataframe\">\n",
       "  <thead>\n",
       "    <tr style=\"text-align: right;\">\n",
       "      <th></th>\n",
       "      <th>duration</th>\n",
       "    </tr>\n",
       "    <tr>\n",
       "      <th>year</th>\n",
       "      <th></th>\n",
       "    </tr>\n",
       "  </thead>\n",
       "  <tbody>\n",
       "    <tr>\n",
       "      <th>2017</th>\n",
       "      <td>329504</td>\n",
       "    </tr>\n",
       "    <tr>\n",
       "      <th>2018</th>\n",
       "      <td>328669</td>\n",
       "    </tr>\n",
       "    <tr>\n",
       "      <th>2016</th>\n",
       "      <td>305390</td>\n",
       "    </tr>\n",
       "    <tr>\n",
       "      <th>2015</th>\n",
       "      <td>280863</td>\n",
       "    </tr>\n",
       "    <tr>\n",
       "      <th>2014</th>\n",
       "      <td>255758</td>\n",
       "    </tr>\n",
       "    <tr>\n",
       "      <th>2011</th>\n",
       "      <td>237562</td>\n",
       "    </tr>\n",
       "    <tr>\n",
       "      <th>2009</th>\n",
       "      <td>230115</td>\n",
       "    </tr>\n",
       "    <tr>\n",
       "      <th>2010</th>\n",
       "      <td>228469</td>\n",
       "    </tr>\n",
       "    <tr>\n",
       "      <th>2019</th>\n",
       "      <td>226166</td>\n",
       "    </tr>\n",
       "    <tr>\n",
       "      <th>2008</th>\n",
       "      <td>220541</td>\n",
       "    </tr>\n",
       "  </tbody>\n",
       "</table>\n",
       "</div>"
      ],
      "text/plain": [
       "      duration\n",
       "year          \n",
       "2017    329504\n",
       "2018    328669\n",
       "2016    305390\n",
       "2015    280863\n",
       "2014    255758\n",
       "2011    237562\n",
       "2009    230115\n",
       "2010    228469\n",
       "2019    226166\n",
       "2008    220541"
      ]
     },
     "execution_count": 120,
     "metadata": {},
     "output_type": "execute_result"
    }
   ],
   "source": [
    "df3 = df.groupby('year')[['duration']].sum()\\\n",
    "    .sort_values('duration', ascending=False).head(10)\n",
    "    \n",
    "df3"
   ]
  },
  {
   "cell_type": "code",
   "execution_count": 121,
   "metadata": {},
   "outputs": [
    {
     "data": {
      "text/html": [
       "<style  type=\"text/css\" >\n",
       "    #T_56b2d30e_274b_11eb_9784_68ecc5fc9f30row0_col0 {\n",
       "            width:  10em;\n",
       "             height:  80%;\n",
       "            background:  linear-gradient(90deg,#d65f5f 100.0%, transparent 100.0%);\n",
       "        }    #T_56b2d30e_274b_11eb_9784_68ecc5fc9f30row1_col0 {\n",
       "            width:  10em;\n",
       "             height:  80%;\n",
       "            background:  linear-gradient(90deg,#d65f5f 99.2%, transparent 99.2%);\n",
       "        }    #T_56b2d30e_274b_11eb_9784_68ecc5fc9f30row2_col0 {\n",
       "            width:  10em;\n",
       "             height:  80%;\n",
       "            background:  linear-gradient(90deg,#d65f5f 77.9%, transparent 77.9%);\n",
       "        }    #T_56b2d30e_274b_11eb_9784_68ecc5fc9f30row3_col0 {\n",
       "            width:  10em;\n",
       "             height:  80%;\n",
       "            background:  linear-gradient(90deg,#d65f5f 55.4%, transparent 55.4%);\n",
       "        }    #T_56b2d30e_274b_11eb_9784_68ecc5fc9f30row4_col0 {\n",
       "            width:  10em;\n",
       "             height:  80%;\n",
       "            background:  linear-gradient(90deg,#d65f5f 32.3%, transparent 32.3%);\n",
       "        }    #T_56b2d30e_274b_11eb_9784_68ecc5fc9f30row5_col0 {\n",
       "            width:  10em;\n",
       "             height:  80%;\n",
       "            background:  linear-gradient(90deg,#d65f5f 15.6%, transparent 15.6%);\n",
       "        }    #T_56b2d30e_274b_11eb_9784_68ecc5fc9f30row6_col0 {\n",
       "            width:  10em;\n",
       "             height:  80%;\n",
       "            background:  linear-gradient(90deg,#d65f5f 8.8%, transparent 8.8%);\n",
       "        }    #T_56b2d30e_274b_11eb_9784_68ecc5fc9f30row7_col0 {\n",
       "            width:  10em;\n",
       "             height:  80%;\n",
       "            background:  linear-gradient(90deg,#d65f5f 7.3%, transparent 7.3%);\n",
       "        }    #T_56b2d30e_274b_11eb_9784_68ecc5fc9f30row8_col0 {\n",
       "            width:  10em;\n",
       "             height:  80%;\n",
       "            background:  linear-gradient(90deg,#d65f5f 5.2%, transparent 5.2%);\n",
       "        }    #T_56b2d30e_274b_11eb_9784_68ecc5fc9f30row9_col0 {\n",
       "            width:  10em;\n",
       "             height:  80%;\n",
       "        }</style><table id=\"T_56b2d30e_274b_11eb_9784_68ecc5fc9f30\" ><thead>    <tr>        <th class=\"blank level0\" ></th>        <th class=\"col_heading level0 col0\" >duration</th>    </tr>    <tr>        <th class=\"index_name level0\" >year</th>        <th class=\"blank\" ></th>    </tr></thead><tbody>\n",
       "                <tr>\n",
       "                        <th id=\"T_56b2d30e_274b_11eb_9784_68ecc5fc9f30level0_row0\" class=\"row_heading level0 row0\" >2017</th>\n",
       "                        <td id=\"T_56b2d30e_274b_11eb_9784_68ecc5fc9f30row0_col0\" class=\"data row0 col0\" >329504</td>\n",
       "            </tr>\n",
       "            <tr>\n",
       "                        <th id=\"T_56b2d30e_274b_11eb_9784_68ecc5fc9f30level0_row1\" class=\"row_heading level0 row1\" >2018</th>\n",
       "                        <td id=\"T_56b2d30e_274b_11eb_9784_68ecc5fc9f30row1_col0\" class=\"data row1 col0\" >328669</td>\n",
       "            </tr>\n",
       "            <tr>\n",
       "                        <th id=\"T_56b2d30e_274b_11eb_9784_68ecc5fc9f30level0_row2\" class=\"row_heading level0 row2\" >2016</th>\n",
       "                        <td id=\"T_56b2d30e_274b_11eb_9784_68ecc5fc9f30row2_col0\" class=\"data row2 col0\" >305390</td>\n",
       "            </tr>\n",
       "            <tr>\n",
       "                        <th id=\"T_56b2d30e_274b_11eb_9784_68ecc5fc9f30level0_row3\" class=\"row_heading level0 row3\" >2015</th>\n",
       "                        <td id=\"T_56b2d30e_274b_11eb_9784_68ecc5fc9f30row3_col0\" class=\"data row3 col0\" >280863</td>\n",
       "            </tr>\n",
       "            <tr>\n",
       "                        <th id=\"T_56b2d30e_274b_11eb_9784_68ecc5fc9f30level0_row4\" class=\"row_heading level0 row4\" >2014</th>\n",
       "                        <td id=\"T_56b2d30e_274b_11eb_9784_68ecc5fc9f30row4_col0\" class=\"data row4 col0\" >255758</td>\n",
       "            </tr>\n",
       "            <tr>\n",
       "                        <th id=\"T_56b2d30e_274b_11eb_9784_68ecc5fc9f30level0_row5\" class=\"row_heading level0 row5\" >2011</th>\n",
       "                        <td id=\"T_56b2d30e_274b_11eb_9784_68ecc5fc9f30row5_col0\" class=\"data row5 col0\" >237562</td>\n",
       "            </tr>\n",
       "            <tr>\n",
       "                        <th id=\"T_56b2d30e_274b_11eb_9784_68ecc5fc9f30level0_row6\" class=\"row_heading level0 row6\" >2009</th>\n",
       "                        <td id=\"T_56b2d30e_274b_11eb_9784_68ecc5fc9f30row6_col0\" class=\"data row6 col0\" >230115</td>\n",
       "            </tr>\n",
       "            <tr>\n",
       "                        <th id=\"T_56b2d30e_274b_11eb_9784_68ecc5fc9f30level0_row7\" class=\"row_heading level0 row7\" >2010</th>\n",
       "                        <td id=\"T_56b2d30e_274b_11eb_9784_68ecc5fc9f30row7_col0\" class=\"data row7 col0\" >228469</td>\n",
       "            </tr>\n",
       "            <tr>\n",
       "                        <th id=\"T_56b2d30e_274b_11eb_9784_68ecc5fc9f30level0_row8\" class=\"row_heading level0 row8\" >2019</th>\n",
       "                        <td id=\"T_56b2d30e_274b_11eb_9784_68ecc5fc9f30row8_col0\" class=\"data row8 col0\" >226166</td>\n",
       "            </tr>\n",
       "            <tr>\n",
       "                        <th id=\"T_56b2d30e_274b_11eb_9784_68ecc5fc9f30level0_row9\" class=\"row_heading level0 row9\" >2008</th>\n",
       "                        <td id=\"T_56b2d30e_274b_11eb_9784_68ecc5fc9f30row9_col0\" class=\"data row9 col0\" >220541</td>\n",
       "            </tr>\n",
       "    </tbody></table>"
      ],
      "text/plain": [
       "<pandas.io.formats.style.Styler at 0x16001b102b0>"
      ]
     },
     "execution_count": 121,
     "metadata": {},
     "output_type": "execute_result"
    }
   ],
   "source": [
    "df3.style.bar()"
   ]
  },
  {
   "cell_type": "markdown",
   "metadata": {},
   "source": [
    "### Делаем вывод, что самый богатый год на фильмы - 2017."
   ]
  },
  {
   "cell_type": "markdown",
   "metadata": {},
   "source": [
    "# 4. Посмотрим фильмы на каких языках набирают наибольшее кол-во голосов."
   ]
  },
  {
   "cell_type": "code",
   "execution_count": 122,
   "metadata": {},
   "outputs": [
    {
     "data": {
      "text/html": [
       "<div>\n",
       "<style scoped>\n",
       "    .dataframe tbody tr th:only-of-type {\n",
       "        vertical-align: middle;\n",
       "    }\n",
       "\n",
       "    .dataframe tbody tr th {\n",
       "        vertical-align: top;\n",
       "    }\n",
       "\n",
       "    .dataframe thead th {\n",
       "        text-align: right;\n",
       "    }\n",
       "</style>\n",
       "<table border=\"1\" class=\"dataframe\">\n",
       "  <thead>\n",
       "    <tr style=\"text-align: right;\">\n",
       "      <th></th>\n",
       "      <th>votes</th>\n",
       "    </tr>\n",
       "    <tr>\n",
       "      <th>language</th>\n",
       "      <th></th>\n",
       "    </tr>\n",
       "  </thead>\n",
       "  <tbody>\n",
       "    <tr>\n",
       "      <th>English</th>\n",
       "      <td>392271069</td>\n",
       "    </tr>\n",
       "    <tr>\n",
       "      <th>English, Spanish</th>\n",
       "      <td>46959664</td>\n",
       "    </tr>\n",
       "    <tr>\n",
       "      <th>English, French</th>\n",
       "      <td>28353826</td>\n",
       "    </tr>\n",
       "    <tr>\n",
       "      <th>English, Russian</th>\n",
       "      <td>9857455</td>\n",
       "    </tr>\n",
       "    <tr>\n",
       "      <th>English, German</th>\n",
       "      <td>9312967</td>\n",
       "    </tr>\n",
       "    <tr>\n",
       "      <th>English, Italian</th>\n",
       "      <td>8688437</td>\n",
       "    </tr>\n",
       "    <tr>\n",
       "      <th>Hindi</th>\n",
       "      <td>8329169</td>\n",
       "    </tr>\n",
       "    <tr>\n",
       "      <th>Japanese</th>\n",
       "      <td>8290466</td>\n",
       "    </tr>\n",
       "    <tr>\n",
       "      <th>English, Mandarin</th>\n",
       "      <td>7388180</td>\n",
       "    </tr>\n",
       "    <tr>\n",
       "      <th>English, Japanese</th>\n",
       "      <td>6806135</td>\n",
       "    </tr>\n",
       "  </tbody>\n",
       "</table>\n",
       "</div>"
      ],
      "text/plain": [
       "                       votes\n",
       "language                    \n",
       "English            392271069\n",
       "English, Spanish    46959664\n",
       "English, French     28353826\n",
       "English, Russian     9857455\n",
       "English, German      9312967\n",
       "English, Italian     8688437\n",
       "Hindi                8329169\n",
       "Japanese             8290466\n",
       "English, Mandarin    7388180\n",
       "English, Japanese    6806135"
      ]
     },
     "execution_count": 122,
     "metadata": {},
     "output_type": "execute_result"
    }
   ],
   "source": [
    "df4 = df.groupby('language')[['votes']].sum()\\\n",
    "    .sort_values('votes', ascending=False).head(10)\n",
    "\n",
    "df4"
   ]
  },
  {
   "cell_type": "code",
   "execution_count": 131,
   "metadata": {},
   "outputs": [
    {
     "data": {
      "text/html": [
       "<style  type=\"text/css\" >\n",
       "    #T_e5e653d2_274e_11eb_834a_68ecc5fc9f30row0_col0 {\n",
       "            width:  10em;\n",
       "             height:  80%;\n",
       "            background:  linear-gradient(90deg,#d65f5f 100.0%, transparent 100.0%);\n",
       "        }    #T_e5e653d2_274e_11eb_834a_68ecc5fc9f30row1_col0 {\n",
       "            width:  10em;\n",
       "             height:  80%;\n",
       "            background:  linear-gradient(90deg,#d65f5f 10.4%, transparent 10.4%);\n",
       "        }    #T_e5e653d2_274e_11eb_834a_68ecc5fc9f30row2_col0 {\n",
       "            width:  10em;\n",
       "             height:  80%;\n",
       "            background:  linear-gradient(90deg,#d65f5f 5.6%, transparent 5.6%);\n",
       "        }    #T_e5e653d2_274e_11eb_834a_68ecc5fc9f30row3_col0 {\n",
       "            width:  10em;\n",
       "             height:  80%;\n",
       "            background:  linear-gradient(90deg,#d65f5f 0.8%, transparent 0.8%);\n",
       "        }    #T_e5e653d2_274e_11eb_834a_68ecc5fc9f30row4_col0 {\n",
       "            width:  10em;\n",
       "             height:  80%;\n",
       "            background:  linear-gradient(90deg,#d65f5f 0.7%, transparent 0.7%);\n",
       "        }    #T_e5e653d2_274e_11eb_834a_68ecc5fc9f30row5_col0 {\n",
       "            width:  10em;\n",
       "             height:  80%;\n",
       "            background:  linear-gradient(90deg,#d65f5f 0.5%, transparent 0.5%);\n",
       "        }    #T_e5e653d2_274e_11eb_834a_68ecc5fc9f30row6_col0 {\n",
       "            width:  10em;\n",
       "             height:  80%;\n",
       "            background:  linear-gradient(90deg,#d65f5f 0.4%, transparent 0.4%);\n",
       "        }    #T_e5e653d2_274e_11eb_834a_68ecc5fc9f30row7_col0 {\n",
       "            width:  10em;\n",
       "             height:  80%;\n",
       "            background:  linear-gradient(90deg,#d65f5f 0.4%, transparent 0.4%);\n",
       "        }    #T_e5e653d2_274e_11eb_834a_68ecc5fc9f30row8_col0 {\n",
       "            width:  10em;\n",
       "             height:  80%;\n",
       "            background:  linear-gradient(90deg,#d65f5f 0.2%, transparent 0.2%);\n",
       "        }    #T_e5e653d2_274e_11eb_834a_68ecc5fc9f30row9_col0 {\n",
       "            width:  10em;\n",
       "             height:  80%;\n",
       "        }</style><table id=\"T_e5e653d2_274e_11eb_834a_68ecc5fc9f30\" ><thead>    <tr>        <th class=\"blank level0\" ></th>        <th class=\"col_heading level0 col0\" >votes</th>    </tr>    <tr>        <th class=\"index_name level0\" >language</th>        <th class=\"blank\" ></th>    </tr></thead><tbody>\n",
       "                <tr>\n",
       "                        <th id=\"T_e5e653d2_274e_11eb_834a_68ecc5fc9f30level0_row0\" class=\"row_heading level0 row0\" >English</th>\n",
       "                        <td id=\"T_e5e653d2_274e_11eb_834a_68ecc5fc9f30row0_col0\" class=\"data row0 col0\" >392271069</td>\n",
       "            </tr>\n",
       "            <tr>\n",
       "                        <th id=\"T_e5e653d2_274e_11eb_834a_68ecc5fc9f30level0_row1\" class=\"row_heading level0 row1\" >English, Spanish</th>\n",
       "                        <td id=\"T_e5e653d2_274e_11eb_834a_68ecc5fc9f30row1_col0\" class=\"data row1 col0\" >46959664</td>\n",
       "            </tr>\n",
       "            <tr>\n",
       "                        <th id=\"T_e5e653d2_274e_11eb_834a_68ecc5fc9f30level0_row2\" class=\"row_heading level0 row2\" >English, French</th>\n",
       "                        <td id=\"T_e5e653d2_274e_11eb_834a_68ecc5fc9f30row2_col0\" class=\"data row2 col0\" >28353826</td>\n",
       "            </tr>\n",
       "            <tr>\n",
       "                        <th id=\"T_e5e653d2_274e_11eb_834a_68ecc5fc9f30level0_row3\" class=\"row_heading level0 row3\" >English, Russian</th>\n",
       "                        <td id=\"T_e5e653d2_274e_11eb_834a_68ecc5fc9f30row3_col0\" class=\"data row3 col0\" >9857455</td>\n",
       "            </tr>\n",
       "            <tr>\n",
       "                        <th id=\"T_e5e653d2_274e_11eb_834a_68ecc5fc9f30level0_row4\" class=\"row_heading level0 row4\" >English, German</th>\n",
       "                        <td id=\"T_e5e653d2_274e_11eb_834a_68ecc5fc9f30row4_col0\" class=\"data row4 col0\" >9312967</td>\n",
       "            </tr>\n",
       "            <tr>\n",
       "                        <th id=\"T_e5e653d2_274e_11eb_834a_68ecc5fc9f30level0_row5\" class=\"row_heading level0 row5\" >English, Italian</th>\n",
       "                        <td id=\"T_e5e653d2_274e_11eb_834a_68ecc5fc9f30row5_col0\" class=\"data row5 col0\" >8688437</td>\n",
       "            </tr>\n",
       "            <tr>\n",
       "                        <th id=\"T_e5e653d2_274e_11eb_834a_68ecc5fc9f30level0_row6\" class=\"row_heading level0 row6\" >Hindi</th>\n",
       "                        <td id=\"T_e5e653d2_274e_11eb_834a_68ecc5fc9f30row6_col0\" class=\"data row6 col0\" >8329169</td>\n",
       "            </tr>\n",
       "            <tr>\n",
       "                        <th id=\"T_e5e653d2_274e_11eb_834a_68ecc5fc9f30level0_row7\" class=\"row_heading level0 row7\" >Japanese</th>\n",
       "                        <td id=\"T_e5e653d2_274e_11eb_834a_68ecc5fc9f30row7_col0\" class=\"data row7 col0\" >8290466</td>\n",
       "            </tr>\n",
       "            <tr>\n",
       "                        <th id=\"T_e5e653d2_274e_11eb_834a_68ecc5fc9f30level0_row8\" class=\"row_heading level0 row8\" >English, Mandarin</th>\n",
       "                        <td id=\"T_e5e653d2_274e_11eb_834a_68ecc5fc9f30row8_col0\" class=\"data row8 col0\" >7388180</td>\n",
       "            </tr>\n",
       "            <tr>\n",
       "                        <th id=\"T_e5e653d2_274e_11eb_834a_68ecc5fc9f30level0_row9\" class=\"row_heading level0 row9\" >English, Japanese</th>\n",
       "                        <td id=\"T_e5e653d2_274e_11eb_834a_68ecc5fc9f30row9_col0\" class=\"data row9 col0\" >6806135</td>\n",
       "            </tr>\n",
       "    </tbody></table>"
      ],
      "text/plain": [
       "<pandas.io.formats.style.Styler at 0x1602e787400>"
      ]
     },
     "execution_count": 131,
     "metadata": {},
     "output_type": "execute_result"
    }
   ],
   "source": [
    "df4.style.bar()"
   ]
  },
  {
   "cell_type": "markdown",
   "metadata": {},
   "source": [
    "### Видим, что самые популярные фильмы - на английском."
   ]
  },
  {
   "cell_type": "markdown",
   "metadata": {},
   "source": [
    "# 5. Посмотрим, как критики оценивают фильмы."
   ]
  },
  {
   "cell_type": "code",
   "execution_count": 129,
   "metadata": {},
   "outputs": [
    {
     "data": {
      "text/plain": [
       "<seaborn.axisgrid.PairGrid at 0x1602e0349a0>"
      ]
     },
     "execution_count": 129,
     "metadata": {},
     "output_type": "execute_result"
    },
    {
     "data": {
      "image/png": "[encoded data removed]",
      "text/plain": [
       "<Figure size 360x360 with 6 Axes>"
      ]
     },
     "metadata": {
      "needs_background": "light"
     },
     "output_type": "display_data"
    }
   ],
   "source": [
    "import seaborn as sns\n",
    "\n",
    "sns_plot = sns.pairplot(\n",
    "    df[['reviews_from_users', 'reviews_from_critics']])\n",
    "sns_plot"
   ]
  },
  {
   "cell_type": "code",
   "execution_count": 130,
   "metadata": {},
   "outputs": [
    {
     "data": {
      "text/plain": [
       "<matplotlib.axes._subplots.AxesSubplot at 0x1602e6978e0>"
      ]
     },
     "execution_count": 130,
     "metadata": {},
     "output_type": "execute_result"
    },
    {
     "data": {
      "image/png": "[encoded data removed]",
      "text/plain": [
       "<Figure size 432x288 with 1 Axes>"
      ]
     },
     "metadata": {
      "needs_background": "light"
     },
     "output_type": "display_data"
    }
   ],
   "source": [
    "sns.distplot(df.reviews_from_critics)"
   ]
  },
  {
   "cell_type": "markdown",
   "metadata": {},
   "source": [
    "### Видим, что чаще всего критики не так высоко оценивают фильмы."
   ]
  }
 ],
 "metadata": {
  "kernelspec": {
   "display_name": "Python 3",
   "language": "python",
   "name": "python3"
  }
 },
 "nbformat": 4,
 "nbformat_minor": 4
}
